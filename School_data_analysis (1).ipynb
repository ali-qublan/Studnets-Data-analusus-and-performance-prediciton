{
 "cells": [
  {
   "cell_type": "code",
   "execution_count": 56,
   "metadata": {},
   "outputs": [],
   "source": [
    "# Initialization \n",
    "import numpy as np\n",
    "import pandas as pd\n",
    "import matplotlib.pyplot as plt\n",
    "import seaborn as sns\n",
    "\n",
    "%matplotlib inline"
   ]
  },
  {
   "cell_type": "code",
   "execution_count": 57,
   "metadata": {},
   "outputs": [],
   "source": [
    "# Data Gathring\n",
    "personal_info = pd.read_csv(\"Personal_info.csv\")\n",
    "results = pd.read_csv(\"Results.csv\")\n",
    "marks = pd.read_csv(\"Marks.csv\")\n",
    "math_science = pd.read_csv('mathe and science.csv')"
   ]
  },
  {
   "cell_type": "code",
   "execution_count": 58,
   "metadata": {},
   "outputs": [
    {
     "data": {
      "text/html": [
       "<div>\n",
       "<style scoped>\n",
       "    .dataframe tbody tr th:only-of-type {\n",
       "        vertical-align: middle;\n",
       "    }\n",
       "\n",
       "    .dataframe tbody tr th {\n",
       "        vertical-align: top;\n",
       "    }\n",
       "\n",
       "    .dataframe thead th {\n",
       "        text-align: right;\n",
       "    }\n",
       "</style>\n",
       "<table border=\"1\" class=\"dataframe\">\n",
       "  <thead>\n",
       "    <tr style=\"text-align: right;\">\n",
       "      <th></th>\n",
       "      <th>timestamp</th>\n",
       "      <th>student_name</th>\n",
       "      <th>student_id</th>\n",
       "      <th>Birthdate</th>\n",
       "      <th>Parents_satus</th>\n",
       "      <th>Leving_with</th>\n",
       "      <th>Father_alive</th>\n",
       "      <th>Mother_alive</th>\n",
       "      <th>Economics_staus</th>\n",
       "      <th>Father_job</th>\n",
       "      <th>Mother_job</th>\n",
       "      <th>Father_edcation</th>\n",
       "      <th>Mother_educstion</th>\n",
       "      <th>Health_case</th>\n",
       "      <th>Parent_phone</th>\n",
       "    </tr>\n",
       "  </thead>\n",
       "  <tbody>\n",
       "    <tr>\n",
       "      <th>0</th>\n",
       "      <td>1/30/2020 11:08:17</td>\n",
       "      <td>عبيدالله عواد عبيدالله الجهني</td>\n",
       "      <td>1137497143</td>\n",
       "      <td>2/17/1428</td>\n",
       "      <td>Divorced</td>\n",
       "      <td>With_Mother</td>\n",
       "      <td>Yes</td>\n",
       "      <td>Yes</td>\n",
       "      <td>Poor</td>\n",
       "      <td>Government</td>\n",
       "      <td>House_wife</td>\n",
       "      <td>High_School</td>\n",
       "      <td>Bachelor</td>\n",
       "      <td>No</td>\n",
       "      <td>0552632993</td>\n",
       "    </tr>\n",
       "    <tr>\n",
       "      <th>1</th>\n",
       "      <td>1/30/2020 11:09:11</td>\n",
       "      <td>أسامة عثمان محمد مشهور آل عيد الغامدي</td>\n",
       "      <td>1132329382</td>\n",
       "      <td>12/10/1426</td>\n",
       "      <td>Together</td>\n",
       "      <td>With_Parents</td>\n",
       "      <td>Yes</td>\n",
       "      <td>Yes</td>\n",
       "      <td>Medium</td>\n",
       "      <td>Government</td>\n",
       "      <td>House_wife</td>\n",
       "      <td>Master</td>\n",
       "      <td>Bachelor</td>\n",
       "      <td>No</td>\n",
       "      <td>0508086665</td>\n",
       "    </tr>\n",
       "    <tr>\n",
       "      <th>2</th>\n",
       "      <td>1/30/2020 11:09:11</td>\n",
       "      <td>معتز علي القرني</td>\n",
       "      <td>1137189575</td>\n",
       "      <td>9/25/2006</td>\n",
       "      <td>One_passed_Away</td>\n",
       "      <td>With_Father</td>\n",
       "      <td>Yes</td>\n",
       "      <td>No</td>\n",
       "      <td>Medium</td>\n",
       "      <td>Government</td>\n",
       "      <td>Passed_Away</td>\n",
       "      <td>Master</td>\n",
       "      <td>Bachelor</td>\n",
       "      <td>No</td>\n",
       "      <td>0555659470</td>\n",
       "    </tr>\n",
       "    <tr>\n",
       "      <th>3</th>\n",
       "      <td>1/30/2020 11:09:12</td>\n",
       "      <td>عبدالرحمن عبدالله صالح الجهوري</td>\n",
       "      <td>1136130810</td>\n",
       "      <td>9/1/1427</td>\n",
       "      <td>Together</td>\n",
       "      <td>With_Parents</td>\n",
       "      <td>Yes</td>\n",
       "      <td>Yes</td>\n",
       "      <td>Medium</td>\n",
       "      <td>Business_Man</td>\n",
       "      <td>House_wife</td>\n",
       "      <td>Bachelor</td>\n",
       "      <td>Bachelor</td>\n",
       "      <td>No</td>\n",
       "      <td>0503674983</td>\n",
       "    </tr>\n",
       "    <tr>\n",
       "      <th>4</th>\n",
       "      <td>1/30/2020 11:09:26</td>\n",
       "      <td>ريان بن يوسف بن عبدالله الذبياني الجهني</td>\n",
       "      <td>1130406703</td>\n",
       "      <td>6/7/2005</td>\n",
       "      <td>Together</td>\n",
       "      <td>With_Parents</td>\n",
       "      <td>Yes</td>\n",
       "      <td>Yes</td>\n",
       "      <td>Medium</td>\n",
       "      <td>Retired</td>\n",
       "      <td>House_wife</td>\n",
       "      <td>Bachelor</td>\n",
       "      <td>High_School</td>\n",
       "      <td>No</td>\n",
       "      <td>0555664277</td>\n",
       "    </tr>\n",
       "  </tbody>\n",
       "</table>\n",
       "</div>"
      ],
      "text/plain": [
       "            timestamp                             student_name  student_id  \\\n",
       "0  1/30/2020 11:08:17            عبيدالله عواد عبيدالله الجهني  1137497143   \n",
       "1  1/30/2020 11:09:11    أسامة عثمان محمد مشهور آل عيد الغامدي  1132329382   \n",
       "2  1/30/2020 11:09:11                         معتز علي القرني   1137189575   \n",
       "3  1/30/2020 11:09:12          عبدالرحمن عبدالله صالح الجهوري   1136130810   \n",
       "4  1/30/2020 11:09:26  ريان بن يوسف بن عبدالله الذبياني الجهني  1130406703   \n",
       "\n",
       "    Birthdate    Parents_satus   Leving_with Father_alive Mother_alive  \\\n",
       "0   2/17/1428         Divorced   With_Mother          Yes          Yes   \n",
       "1  12/10/1426         Together  With_Parents          Yes          Yes   \n",
       "2   9/25/2006  One_passed_Away   With_Father          Yes           No   \n",
       "3    9/1/1427         Together  With_Parents          Yes          Yes   \n",
       "4    6/7/2005         Together  With_Parents          Yes          Yes   \n",
       "\n",
       "  Economics_staus    Father_job   Mother_job Father_edcation Mother_educstion  \\\n",
       "0            Poor    Government   House_wife     High_School         Bachelor   \n",
       "1          Medium    Government   House_wife          Master         Bachelor   \n",
       "2          Medium    Government  Passed_Away          Master         Bachelor   \n",
       "3          Medium  Business_Man   House_wife        Bachelor         Bachelor   \n",
       "4          Medium       Retired   House_wife        Bachelor      High_School   \n",
       "\n",
       "  Health_case Parent_phone  \n",
       "0          No   0552632993  \n",
       "1          No   0508086665  \n",
       "2          No   0555659470  \n",
       "3          No   0503674983  \n",
       "4          No   0555664277  "
      ]
     },
     "execution_count": 58,
     "metadata": {},
     "output_type": "execute_result"
    }
   ],
   "source": [
    "personal_info.head()"
   ]
  },
  {
   "cell_type": "code",
   "execution_count": 59,
   "metadata": {},
   "outputs": [
    {
     "name": "stdout",
     "output_type": "stream",
     "text": [
      "<class 'pandas.core.frame.DataFrame'>\n",
      "RangeIndex: 362 entries, 0 to 361\n",
      "Data columns (total 15 columns):\n",
      " #   Column            Non-Null Count  Dtype \n",
      "---  ------            --------------  ----- \n",
      " 0   timestamp         262 non-null    object\n",
      " 1   student_name      262 non-null    object\n",
      " 2   student_id        262 non-null    object\n",
      " 3   Birthdate         262 non-null    object\n",
      " 4   Parents_satus     262 non-null    object\n",
      " 5   Leving_with       262 non-null    object\n",
      " 6   Father_alive      262 non-null    object\n",
      " 7   Mother_alive      262 non-null    object\n",
      " 8   Economics_staus   262 non-null    object\n",
      " 9   Father_job        262 non-null    object\n",
      " 10  Mother_job        262 non-null    object\n",
      " 11  Father_edcation   262 non-null    object\n",
      " 12  Mother_educstion  262 non-null    object\n",
      " 13  Health_case       262 non-null    object\n",
      " 14  Parent_phone      262 non-null    object\n",
      "dtypes: object(15)\n",
      "memory usage: 42.5+ KB\n"
     ]
    }
   ],
   "source": [
    "personal_info.info()"
   ]
  },
  {
   "cell_type": "code",
   "execution_count": 60,
   "metadata": {},
   "outputs": [
    {
     "name": "stdout",
     "output_type": "stream",
     "text": [
      "<class 'pandas.core.frame.DataFrame'>\n",
      "RangeIndex: 632 entries, 0 to 631\n",
      "Data columns (total 9 columns):\n",
      " #   Column          Non-Null Count  Dtype  \n",
      "---  ------          --------------  -----  \n",
      " 0   number_s_class  632 non-null    int64  \n",
      " 1   number_s_grade  632 non-null    int64  \n",
      " 2   class_rank      632 non-null    int64  \n",
      " 3   grade_rank      632 non-null    int64  \n",
      " 4   total           632 non-null    float64\n",
      " 5   class_id        632 non-null    int64  \n",
      " 6   grade_id        632 non-null    int64  \n",
      " 7   student_name    632 non-null    object \n",
      " 8   student_id      632 non-null    object \n",
      "dtypes: float64(1), int64(6), object(2)\n",
      "memory usage: 44.6+ KB\n"
     ]
    }
   ],
   "source": [
    "results.info()"
   ]
  },
  {
   "cell_type": "code",
   "execution_count": 61,
   "metadata": {},
   "outputs": [
    {
     "data": {
      "text/plain": [
       "With_Parents     206\n",
       "With_Mother       28\n",
       "With_Father        9\n",
       "With_Relative      2\n",
       "Name: Leving_with, dtype: int64"
      ]
     },
     "execution_count": 61,
     "metadata": {},
     "output_type": "execute_result"
    }
   ],
   "source": [
    "df_stud['Leving_with'].value_counts()"
   ]
  },
  {
   "cell_type": "code",
   "execution_count": 62,
   "metadata": {},
   "outputs": [
    {
     "data": {
      "text/plain": [
       "1    110\n",
       "4    108\n",
       "3    106\n",
       "5    105\n",
       "2    104\n",
       "6     99\n",
       "Name: class_id, dtype: int64"
      ]
     },
     "execution_count": 62,
     "metadata": {},
     "output_type": "execute_result"
    }
   ],
   "source": [
    "results['class_id'].value_counts()"
   ]
  },
  {
   "cell_type": "code",
   "execution_count": 63,
   "metadata": {},
   "outputs": [
    {
     "data": {
      "text/plain": [
       "Medium    214\n",
       "Poor       23\n",
       "High        8\n",
       "Name: Economics_staus, dtype: int64"
      ]
     },
     "execution_count": 63,
     "metadata": {},
     "output_type": "execute_result"
    }
   ],
   "source": [
    "df_stud['Economics_staus'].value_counts()"
   ]
  },
  {
   "cell_type": "code",
   "execution_count": 64,
   "metadata": {},
   "outputs": [
    {
     "data": {
      "text/plain": [
       "Government      100\n",
       "Private          67\n",
       "Retired          35\n",
       "Business_Man     18\n",
       "Passed_away      13\n",
       "Unemployed       12\n",
       "Name: Father_job, dtype: int64"
      ]
     },
     "execution_count": 64,
     "metadata": {},
     "output_type": "execute_result"
    }
   ],
   "source": [
    "df_stud['Father_job'].value_counts()"
   ]
  },
  {
   "cell_type": "code",
   "execution_count": 65,
   "metadata": {},
   "outputs": [
    {
     "data": {
      "text/plain": [
       "House_wife     167\n",
       "Government      46\n",
       "Private         30\n",
       "Passed_Away      2\n",
       "Name: Mother_job, dtype: int64"
      ]
     },
     "execution_count": 65,
     "metadata": {},
     "output_type": "execute_result"
    }
   ],
   "source": [
    "df_stud['Mother_job'].value_counts()"
   ]
  },
  {
   "cell_type": "code",
   "execution_count": 66,
   "metadata": {},
   "outputs": [
    {
     "data": {
      "text/plain": [
       "High_School    133\n",
       "Bachelor        97\n",
       "Master          13\n",
       "PHD              2\n",
       "Name: Father_edcation, dtype: int64"
      ]
     },
     "execution_count": 66,
     "metadata": {},
     "output_type": "execute_result"
    }
   ],
   "source": [
    "df_stud['Father_edcation'].value_counts()"
   ]
  },
  {
   "cell_type": "code",
   "execution_count": 67,
   "metadata": {},
   "outputs": [
    {
     "data": {
      "text/plain": [
       "High_School    149\n",
       "Bachelor       108\n",
       "Master           5\n",
       "Name: Mother_educstion, dtype: int64"
      ]
     },
     "execution_count": 67,
     "metadata": {},
     "output_type": "execute_result"
    }
   ],
   "source": [
    "personal_info['Mother_educstion'].value_counts()"
   ]
  },
  {
   "cell_type": "code",
   "execution_count": 68,
   "metadata": {},
   "outputs": [
    {
     "data": {
      "text/plain": [
       "Together           217\n",
       "Divorced            28\n",
       "One_passed_Away     17\n",
       "Name: Parents_satus, dtype: int64"
      ]
     },
     "execution_count": 68,
     "metadata": {},
     "output_type": "execute_result"
    }
   ],
   "source": [
    "personal_info['Parents_satus'].value_counts()"
   ]
  },
  {
   "cell_type": "code",
   "execution_count": 69,
   "metadata": {},
   "outputs": [],
   "source": [
    "deforesd = df_stud.query('Parents_satus == \"Divorced\"')['student_id'].count()"
   ]
  },
  {
   "cell_type": "code",
   "execution_count": 70,
   "metadata": {},
   "outputs": [
    {
     "name": "stdout",
     "output_type": "stream",
     "text": [
      "26\n"
     ]
    }
   ],
   "source": [
    "print (deforesd)"
   ]
  },
  {
   "cell_type": "code",
   "execution_count": 71,
   "metadata": {},
   "outputs": [],
   "source": [
    "mothers = df_stud.query('Mother_alive == \"No\"')['student_id'].count()"
   ]
  },
  {
   "cell_type": "code",
   "execution_count": 72,
   "metadata": {},
   "outputs": [
    {
     "name": "stdout",
     "output_type": "stream",
     "text": [
      "2\n"
     ]
    }
   ],
   "source": [
    "print (mothers)"
   ]
  },
  {
   "cell_type": "code",
   "execution_count": 73,
   "metadata": {},
   "outputs": [],
   "source": [
    "fathers = df_stud.query('Father_alive == \"No\"')['student_id'].count()"
   ]
  },
  {
   "cell_type": "code",
   "execution_count": 74,
   "metadata": {},
   "outputs": [
    {
     "name": "stdout",
     "output_type": "stream",
     "text": [
      "14\n"
     ]
    }
   ],
   "source": [
    "print (fathers)"
   ]
  },
  {
   "cell_type": "code",
   "execution_count": 75,
   "metadata": {},
   "outputs": [
    {
     "data": {
      "text/html": [
       "<div>\n",
       "<style scoped>\n",
       "    .dataframe tbody tr th:only-of-type {\n",
       "        vertical-align: middle;\n",
       "    }\n",
       "\n",
       "    .dataframe tbody tr th {\n",
       "        vertical-align: top;\n",
       "    }\n",
       "\n",
       "    .dataframe thead th {\n",
       "        text-align: right;\n",
       "    }\n",
       "</style>\n",
       "<table border=\"1\" class=\"dataframe\">\n",
       "  <thead>\n",
       "    <tr style=\"text-align: right;\">\n",
       "      <th></th>\n",
       "      <th>number_s_class</th>\n",
       "      <th>number_s_grade</th>\n",
       "      <th>class_rank</th>\n",
       "      <th>grade_rank</th>\n",
       "      <th>total</th>\n",
       "      <th>class_id</th>\n",
       "      <th>grade_id</th>\n",
       "      <th>student_name_x</th>\n",
       "      <th>student_id</th>\n",
       "      <th>timestamp</th>\n",
       "      <th>...</th>\n",
       "      <th>Mother_alive</th>\n",
       "      <th>Economics_staus</th>\n",
       "      <th>Father_job</th>\n",
       "      <th>Mother_job</th>\n",
       "      <th>Father_edcation</th>\n",
       "      <th>Mother_educstion</th>\n",
       "      <th>Health_case</th>\n",
       "      <th>Parent_phone</th>\n",
       "      <th>math_final</th>\n",
       "      <th>science</th>\n",
       "    </tr>\n",
       "  </thead>\n",
       "  <tbody>\n",
       "    <tr>\n",
       "      <th>0</th>\n",
       "      <td>38</td>\n",
       "      <td>206</td>\n",
       "      <td>27</td>\n",
       "      <td>128</td>\n",
       "      <td>1309.5</td>\n",
       "      <td>1</td>\n",
       "      <td>725</td>\n",
       "      <td>بشار بدر سليم بامحفوظ</td>\n",
       "      <td>1141676120</td>\n",
       "      <td>1/30/2020 11:32:11</td>\n",
       "      <td>...</td>\n",
       "      <td>Yes</td>\n",
       "      <td>Medium</td>\n",
       "      <td>Retired</td>\n",
       "      <td>House_wife</td>\n",
       "      <td>High_School</td>\n",
       "      <td>High_School</td>\n",
       "      <td>No</td>\n",
       "      <td>0534000839</td>\n",
       "      <td>14.0</td>\n",
       "      <td>16.5</td>\n",
       "    </tr>\n",
       "    <tr>\n",
       "      <th>1</th>\n",
       "      <td>38</td>\n",
       "      <td>206</td>\n",
       "      <td>18</td>\n",
       "      <td>63</td>\n",
       "      <td>1511.5</td>\n",
       "      <td>1</td>\n",
       "      <td>725</td>\n",
       "      <td>حمد بدر عاتق الحربي</td>\n",
       "      <td>1139329468</td>\n",
       "      <td>1/30/2020 11:09:56</td>\n",
       "      <td>...</td>\n",
       "      <td>Yes</td>\n",
       "      <td>Medium</td>\n",
       "      <td>Government</td>\n",
       "      <td>House_wife</td>\n",
       "      <td>Bachelor</td>\n",
       "      <td>Bachelor</td>\n",
       "      <td>No</td>\n",
       "      <td>0555259704</td>\n",
       "      <td>25.0</td>\n",
       "      <td>19.5</td>\n",
       "    </tr>\n",
       "    <tr>\n",
       "      <th>2</th>\n",
       "      <td>38</td>\n",
       "      <td>206</td>\n",
       "      <td>36</td>\n",
       "      <td>167</td>\n",
       "      <td>1160.0</td>\n",
       "      <td>1</td>\n",
       "      <td>725</td>\n",
       "      <td>خالد انور كمال سباء</td>\n",
       "      <td>1139754053</td>\n",
       "      <td>1/30/2020 11:11:41</td>\n",
       "      <td>...</td>\n",
       "      <td>Yes</td>\n",
       "      <td>Medium</td>\n",
       "      <td>Government</td>\n",
       "      <td>House_wife</td>\n",
       "      <td>High_School</td>\n",
       "      <td>High_School</td>\n",
       "      <td>No</td>\n",
       "      <td>0551880662</td>\n",
       "      <td>15.0</td>\n",
       "      <td>12.0</td>\n",
       "    </tr>\n",
       "    <tr>\n",
       "      <th>3</th>\n",
       "      <td>38</td>\n",
       "      <td>206</td>\n",
       "      <td>30</td>\n",
       "      <td>144</td>\n",
       "      <td>1271.0</td>\n",
       "      <td>1</td>\n",
       "      <td>725</td>\n",
       "      <td>رائد ناصر صلاح المطيري</td>\n",
       "      <td>1140387018</td>\n",
       "      <td>1/30/2020 13:39:56</td>\n",
       "      <td>...</td>\n",
       "      <td>Yes</td>\n",
       "      <td>High</td>\n",
       "      <td>Government</td>\n",
       "      <td>Government</td>\n",
       "      <td>Master</td>\n",
       "      <td>Bachelor</td>\n",
       "      <td>No</td>\n",
       "      <td>567902997</td>\n",
       "      <td>8.0</td>\n",
       "      <td>18.5</td>\n",
       "    </tr>\n",
       "    <tr>\n",
       "      <th>4</th>\n",
       "      <td>38</td>\n",
       "      <td>206</td>\n",
       "      <td>30</td>\n",
       "      <td>144</td>\n",
       "      <td>1271.0</td>\n",
       "      <td>1</td>\n",
       "      <td>725</td>\n",
       "      <td>رائد ناصر صلاح المطيري</td>\n",
       "      <td>1140387018</td>\n",
       "      <td>1/30/2020 13:45:29</td>\n",
       "      <td>...</td>\n",
       "      <td>Yes</td>\n",
       "      <td>Medium</td>\n",
       "      <td>Government</td>\n",
       "      <td>Government</td>\n",
       "      <td>Bachelor</td>\n",
       "      <td>High_School</td>\n",
       "      <td>No</td>\n",
       "      <td>567902997</td>\n",
       "      <td>8.0</td>\n",
       "      <td>18.5</td>\n",
       "    </tr>\n",
       "  </tbody>\n",
       "</table>\n",
       "<p>5 rows × 25 columns</p>\n",
       "</div>"
      ],
      "text/plain": [
       "   number_s_class  number_s_grade  class_rank  grade_rank   total  class_id  \\\n",
       "0              38             206          27         128  1309.5         1   \n",
       "1              38             206          18          63  1511.5         1   \n",
       "2              38             206          36         167  1160.0         1   \n",
       "3              38             206          30         144  1271.0         1   \n",
       "4              38             206          30         144  1271.0         1   \n",
       "\n",
       "   grade_id          student_name_x  student_id           timestamp  ...  \\\n",
       "0       725   بشار بدر سليم بامحفوظ  1141676120  1/30/2020 11:32:11  ...   \n",
       "1       725     حمد بدر عاتق الحربي  1139329468  1/30/2020 11:09:56  ...   \n",
       "2       725     خالد انور كمال سباء  1139754053  1/30/2020 11:11:41  ...   \n",
       "3       725  رائد ناصر صلاح المطيري  1140387018  1/30/2020 13:39:56  ...   \n",
       "4       725  رائد ناصر صلاح المطيري  1140387018  1/30/2020 13:45:29  ...   \n",
       "\n",
       "  Mother_alive Economics_staus  Father_job  Mother_job Father_edcation  \\\n",
       "0          Yes          Medium     Retired  House_wife     High_School   \n",
       "1          Yes          Medium  Government  House_wife        Bachelor   \n",
       "2          Yes          Medium  Government  House_wife     High_School   \n",
       "3          Yes            High  Government  Government          Master   \n",
       "4          Yes          Medium  Government  Government        Bachelor   \n",
       "\n",
       "  Mother_educstion Health_case Parent_phone math_final science  \n",
       "0      High_School          No   0534000839       14.0    16.5  \n",
       "1         Bachelor          No   0555259704       25.0    19.5  \n",
       "2      High_School          No   0551880662       15.0    12.0  \n",
       "3         Bachelor          No    567902997        8.0    18.5  \n",
       "4      High_School          No    567902997        8.0    18.5  \n",
       "\n",
       "[5 rows x 25 columns]"
      ]
     },
     "execution_count": 75,
     "metadata": {},
     "output_type": "execute_result"
    }
   ],
   "source": [
    "df_stud = pd.merge(results, personal_info, on = ['student_id'], how = 'inner')\n",
    "df_stud = pd.merge(df_stud, math_science, on = ['student_id'], how = 'inner')\n",
    "df_stud.head()"
   ]
  },
  {
   "cell_type": "code",
   "execution_count": 76,
   "metadata": {},
   "outputs": [
    {
     "name": "stdout",
     "output_type": "stream",
     "text": [
      "<class 'pandas.core.frame.DataFrame'>\n",
      "Int64Index: 245 entries, 0 to 244\n",
      "Data columns (total 25 columns):\n",
      " #   Column            Non-Null Count  Dtype  \n",
      "---  ------            --------------  -----  \n",
      " 0   number_s_class    245 non-null    int64  \n",
      " 1   number_s_grade    245 non-null    int64  \n",
      " 2   class_rank        245 non-null    int64  \n",
      " 3   grade_rank        245 non-null    int64  \n",
      " 4   total             245 non-null    float64\n",
      " 5   class_id          245 non-null    int64  \n",
      " 6   grade_id          245 non-null    int64  \n",
      " 7   student_name_x    245 non-null    object \n",
      " 8   student_id        245 non-null    object \n",
      " 9   timestamp         245 non-null    object \n",
      " 10  student_name_y    245 non-null    object \n",
      " 11  Birthdate         245 non-null    object \n",
      " 12  Parents_satus     245 non-null    object \n",
      " 13  Leving_with       245 non-null    object \n",
      " 14  Father_alive      245 non-null    object \n",
      " 15  Mother_alive      245 non-null    object \n",
      " 16  Economics_staus   245 non-null    object \n",
      " 17  Father_job        245 non-null    object \n",
      " 18  Mother_job        245 non-null    object \n",
      " 19  Father_edcation   245 non-null    object \n",
      " 20  Mother_educstion  245 non-null    object \n",
      " 21  Health_case       245 non-null    object \n",
      " 22  Parent_phone      245 non-null    object \n",
      " 23  math_final        245 non-null    float64\n",
      " 24  science           245 non-null    float64\n",
      "dtypes: float64(3), int64(6), object(16)\n",
      "memory usage: 49.8+ KB\n"
     ]
    }
   ],
   "source": [
    "df_stud.info()"
   ]
  },
  {
   "cell_type": "code",
   "execution_count": null,
   "metadata": {},
   "outputs": [],
   "source": []
  },
  {
   "cell_type": "markdown",
   "metadata": {},
   "source": [
    "### Replacing Dataframe Values"
   ]
  },
  {
   "cell_type": "code",
   "execution_count": 77,
   "metadata": {},
   "outputs": [
    {
     "name": "stdout",
     "output_type": "stream",
     "text": [
      "<class 'pandas.core.frame.DataFrame'>\n",
      "Int64Index: 245 entries, 0 to 244\n",
      "Data columns (total 25 columns):\n",
      " #   Column            Non-Null Count  Dtype  \n",
      "---  ------            --------------  -----  \n",
      " 0   number_s_class    245 non-null    int64  \n",
      " 1   number_s_grade    245 non-null    int64  \n",
      " 2   class_rank        245 non-null    int64  \n",
      " 3   grade_rank        245 non-null    int64  \n",
      " 4   total             245 non-null    float64\n",
      " 5   class_id          245 non-null    int64  \n",
      " 6   grade_id          245 non-null    int64  \n",
      " 7   student_name_x    245 non-null    object \n",
      " 8   student_id        245 non-null    object \n",
      " 9   timestamp         245 non-null    object \n",
      " 10  student_name_y    245 non-null    object \n",
      " 11  Birthdate         245 non-null    object \n",
      " 12  Parents_satus     245 non-null    object \n",
      " 13  Leving_with       245 non-null    object \n",
      " 14  Father_alive      245 non-null    object \n",
      " 15  Mother_alive      245 non-null    object \n",
      " 16  Economics_staus   245 non-null    object \n",
      " 17  Father_job        245 non-null    object \n",
      " 18  Mother_job        245 non-null    object \n",
      " 19  Father_edcation   245 non-null    object \n",
      " 20  Mother_educstion  245 non-null    object \n",
      " 21  Health_case       245 non-null    object \n",
      " 22  Parent_phone      245 non-null    object \n",
      " 23  math_final        245 non-null    float64\n",
      " 24  science           245 non-null    float64\n",
      "dtypes: float64(3), int64(6), object(16)\n",
      "memory usage: 49.8+ KB\n"
     ]
    }
   ],
   "source": [
    "df_stud.info()"
   ]
  },
  {
   "cell_type": "code",
   "execution_count": 78,
   "metadata": {},
   "outputs": [],
   "source": [
    "# Adding average \n",
    "df_stud['Average'] = df_stud['total'] / 1750"
   ]
  },
  {
   "cell_type": "code",
   "execution_count": 79,
   "metadata": {},
   "outputs": [
    {
     "name": "stdout",
     "output_type": "stream",
     "text": [
      "<class 'pandas.core.frame.DataFrame'>\n",
      "Int64Index: 245 entries, 0 to 244\n",
      "Data columns (total 26 columns):\n",
      " #   Column            Non-Null Count  Dtype  \n",
      "---  ------            --------------  -----  \n",
      " 0   number_s_class    245 non-null    int64  \n",
      " 1   number_s_grade    245 non-null    int64  \n",
      " 2   class_rank        245 non-null    int64  \n",
      " 3   grade_rank        245 non-null    int64  \n",
      " 4   total             245 non-null    float64\n",
      " 5   class_id          245 non-null    int64  \n",
      " 6   grade_id          245 non-null    int64  \n",
      " 7   student_name_x    245 non-null    object \n",
      " 8   student_id        245 non-null    object \n",
      " 9   timestamp         245 non-null    object \n",
      " 10  student_name_y    245 non-null    object \n",
      " 11  Birthdate         245 non-null    object \n",
      " 12  Parents_satus     245 non-null    object \n",
      " 13  Leving_with       245 non-null    object \n",
      " 14  Father_alive      245 non-null    object \n",
      " 15  Mother_alive      245 non-null    object \n",
      " 16  Economics_staus   245 non-null    object \n",
      " 17  Father_job        245 non-null    object \n",
      " 18  Mother_job        245 non-null    object \n",
      " 19  Father_edcation   245 non-null    object \n",
      " 20  Mother_educstion  245 non-null    object \n",
      " 21  Health_case       245 non-null    object \n",
      " 22  Parent_phone      245 non-null    object \n",
      " 23  math_final        245 non-null    float64\n",
      " 24  science           245 non-null    float64\n",
      " 25  Average           245 non-null    float64\n",
      "dtypes: float64(4), int64(6), object(16)\n",
      "memory usage: 51.7+ KB\n"
     ]
    }
   ],
   "source": [
    "df_stud.info()"
   ]
  },
  {
   "cell_type": "code",
   "execution_count": 80,
   "metadata": {},
   "outputs": [],
   "source": [
    "from scipy.stats import norm\n",
    "def ns_plo (featuer):\n",
    "    x = sns.distplot(featuer, fit=norm, kde=False)\n",
    "    return (x)"
   ]
  },
  {
   "cell_type": "code",
   "execution_count": 81,
   "metadata": {},
   "outputs": [
    {
     "data": {
      "text/plain": [
       "<matplotlib.lines.Line2D at 0x1cd8ea60d30>"
      ]
     },
     "execution_count": 81,
     "metadata": {},
     "output_type": "execute_result"
    },
    {
     "data": {
      "image/png": "[encoded data removed]",
      "text/plain": [
       "<Figure size 432x288 with 1 Axes>"
      ]
     },
     "metadata": {
      "needs_background": "light"
     },
     "output_type": "display_data"
    }
   ],
   "source": [
    "ns_plo(df_stud['Average'])\n",
    "plt.axvline(df_stud['Average'].mean(), color='r')"
   ]
  },
  {
   "cell_type": "code",
   "execution_count": 82,
   "metadata": {},
   "outputs": [
    {
     "data": {
      "text/plain": [
       "<matplotlib.lines.Line2D at 0x1cd8ed8c730>"
      ]
     },
     "execution_count": 82,
     "metadata": {},
     "output_type": "execute_result"
    },
    {
     "data": {
      "image/png": "[encoded data removed]",
      "text/plain": [
       "<Figure size 432x288 with 1 Axes>"
      ]
     },
     "metadata": {
      "needs_background": "light"
     },
     "output_type": "display_data"
    }
   ],
   "source": [
    "ns_plo(math_science['math_final'])\n",
    "plt.axvline(math_science['math_final'].mean(), color='r')"
   ]
  },
  {
   "cell_type": "code",
   "execution_count": 83,
   "metadata": {},
   "outputs": [
    {
     "data": {
      "text/plain": [
       "<matplotlib.lines.Line2D at 0x1cd8ee437f0>"
      ]
     },
     "execution_count": 83,
     "metadata": {},
     "output_type": "execute_result"
    },
    {
     "data": {
      "image/png": "[encoded data removed]",
      "text/plain": [
       "<Figure size 432x288 with 1 Axes>"
      ]
     },
     "metadata": {
      "needs_background": "light"
     },
     "output_type": "display_data"
    }
   ],
   "source": [
    "ns_plo(math_science['science'])\n",
    "plt.axvline(math_science['science'].mean(), color='r')"
   ]
  },
  {
   "cell_type": "code",
   "execution_count": 84,
   "metadata": {},
   "outputs": [],
   "source": [
    "high = df_stud.query('Economics_staus == \"High\"')['Average'].mean()*100\n",
    "meduim = df_stud.query('Economics_staus == \"Medium\"')['Average'].mean()*100\n",
    "low = df_stud.query('Economics_staus == \"Poor\"')['Average'].mean()*100"
   ]
  },
  {
   "cell_type": "code",
   "execution_count": 85,
   "metadata": {},
   "outputs": [
    {
     "name": "stdout",
     "output_type": "stream",
     "text": [
      "74.98142857142858\n",
      "80.40817089452598\n",
      "77.41962732919255\n"
     ]
    }
   ],
   "source": [
    "print(high)\n",
    "print(meduim)\n",
    "print(low)"
   ]
  },
  {
   "cell_type": "code",
   "execution_count": 86,
   "metadata": {},
   "outputs": [],
   "source": [
    "gov_sect = df_stud.query('Father_job == \"Government\" and Father_alive == \"Yes\"')['Average'].mean()*100\n",
    "priv_sec = df_stud.query('Father_job == \"Private\" and Father_alive == \"Yes\"')['Average'].mean()*100\n",
    "business_men = df_stud.query('Father_job == \"Private\" and Father_alive == \"Yes\"')['Average'].mean()*100\n",
    "retier = df_stud.query('Father_job == \"Retired\" and Father_alive == \"Yes\" ')['Average'].mean()*100\n",
    "unemployee = df_stud.query('Father_job == \"Unemployed\" and Father_alive == \"Yes\" ')['Average'].mean()*100"
   ]
  },
  {
   "cell_type": "code",
   "execution_count": 87,
   "metadata": {},
   "outputs": [
    {
     "name": "stdout",
     "output_type": "stream",
     "text": [
      "80.19582857142855\n",
      "79.57202558635394\n",
      "79.57202558635394\n",
      "81.29848739495796\n",
      "82.3104761904762\n"
     ]
    }
   ],
   "source": [
    "print(gov_sect)\n",
    "print(priv_sec)\n",
    "print(business_men)\n",
    "print(retier)\n",
    "print(unemployee)"
   ]
  },
  {
   "cell_type": "code",
   "execution_count": 88,
   "metadata": {},
   "outputs": [],
   "source": [
    "phd = df_stud.query('Father_edcation == \"PHD\"')['Average'].mean()*100\n",
    "master = df_stud.query('Father_edcation == \"Master\"')['Average'].mean()*100\n",
    "bachelore = df_stud.query('Father_edcation == \"Bachelor\"')['Average'].mean()*100\n",
    "undergradute = df_stud.query('Father_edcation == \"High_School\"')['Average'].mean()*100"
   ]
  },
  {
   "cell_type": "code",
   "execution_count": 89,
   "metadata": {},
   "outputs": [
    {
     "name": "stdout",
     "output_type": "stream",
     "text": [
      "92.10285714285715\n",
      "78.36791208791209\n",
      "82.43039764359351\n",
      "78.11364124597208\n"
     ]
    }
   ],
   "source": [
    "print(phd)\n",
    "print(master)\n",
    "print(bachelore)\n",
    "print(undergradute)"
   ]
  },
  {
   "cell_type": "code",
   "execution_count": 90,
   "metadata": {},
   "outputs": [],
   "source": [
    "m_phd = df_stud.query('Mother_educstion == \"PHD\"')['Average'].mean()*100\n",
    "m_master = df_stud.query('Mother_educstion == \"Master\"')['Average'].mean()*100\n",
    "m_bachelore = df_stud.query('Mother_educstion == \"Bachelor\"')['Average'].mean()*100\n",
    "m_undergradute = df_stud.query('Mother_educstion == \"High_School\"')['Average'].mean()*100"
   ]
  },
  {
   "cell_type": "code",
   "execution_count": 91,
   "metadata": {},
   "outputs": [
    {
     "name": "stdout",
     "output_type": "stream",
     "text": [
      "nan\n",
      "82.72228571428573\n",
      "82.46896746817545\n",
      "78.02067831449122\n"
     ]
    }
   ],
   "source": [
    "print(m_phd)\n",
    "print(m_master)\n",
    "print(m_bachelore)\n",
    "print(m_undergradute)"
   ]
  },
  {
   "cell_type": "code",
   "execution_count": 92,
   "metadata": {},
   "outputs": [],
   "source": [
    "wtith_parents = df_stud.query('Leving_with == \"With_Parents\"')['Average'].mean()*100\n",
    "with_mother = df_stud.query('Leving_with == \"With_Mother\"')['Average'].mean()*100\n",
    "with_father = df_stud.query('Leving_with == \"With_Father\"')['Average'].mean()*100\n",
    "wtith_relavant = df_stud.query('Leving_with == \"With_Relative\"')['Average'].mean()*100"
   ]
  },
  {
   "cell_type": "code",
   "execution_count": 93,
   "metadata": {},
   "outputs": [
    {
     "name": "stdout",
     "output_type": "stream",
     "text": [
      "80.47123439667125\n",
      "76.88632653061225\n",
      "75.73841269841269\n",
      "88.15714285714286\n"
     ]
    }
   ],
   "source": [
    "print(wtith_parents)\n",
    "print(with_mother)\n",
    "print(with_father)\n",
    "print(wtith_relavant)"
   ]
  },
  {
   "cell_type": "code",
   "execution_count": 94,
   "metadata": {},
   "outputs": [],
   "source": [
    "parents_togther = df_stud.query('Parents_satus == \"Together\"')['Average'].mean()*100\n",
    "devorced = df_stud.query('Parents_satus == \"Divorced\"')['Average'].mean()*100\n",
    "one_dead = df_stud.query('Parents_satus == \"One_passed_Away\"')['Average'].mean()*100"
   ]
  },
  {
   "cell_type": "code",
   "execution_count": 95,
   "metadata": {},
   "outputs": [
    {
     "name": "stdout",
     "output_type": "stream",
     "text": [
      "80.62175932441939\n",
      "77.00857142857144\n",
      "76.21321428571429\n"
     ]
    }
   ],
   "source": [
    "print(parents_togther)\n",
    "print(devorced)\n",
    "print(one_dead)"
   ]
  },
  {
   "cell_type": "code",
   "execution_count": 96,
   "metadata": {},
   "outputs": [
    {
     "name": "stdout",
     "output_type": "stream",
     "text": [
      "53.55428571428572\n",
      "99.94285714285715\n",
      "79.95041399416904\n"
     ]
    }
   ],
   "source": [
    "print(min(df_stud[\"Average\"])*100)\n",
    "print (max(df_stud[\"Average\"])*100)\n",
    "print (df_stud[\"Average\"].mean()*100)"
   ]
  },
  {
   "cell_type": "code",
   "execution_count": 97,
   "metadata": {},
   "outputs": [
    {
     "data": {
      "text/plain": [
       "count    245.000000\n",
       "mean       0.799504\n",
       "std        0.107673\n",
       "min        0.535543\n",
       "25%        0.726286\n",
       "50%        0.807429\n",
       "75%        0.893143\n",
       "max        0.999429\n",
       "Name: Average, dtype: float64"
      ]
     },
     "execution_count": 97,
     "metadata": {},
     "output_type": "execute_result"
    }
   ],
   "source": [
    "df_stud[\"Average\"].describe()"
   ]
  },
  {
   "cell_type": "code",
   "execution_count": 98,
   "metadata": {},
   "outputs": [
    {
     "data": {
      "text/plain": [
       "0.8074285714285714"
      ]
     },
     "execution_count": 98,
     "metadata": {},
     "output_type": "execute_result"
    }
   ],
   "source": [
    "df_stud[\"Average\"].median()"
   ]
  },
  {
   "cell_type": "code",
   "execution_count": 99,
   "metadata": {},
   "outputs": [
    {
     "data": {
      "text/plain": [
       "count     245.000000\n",
       "mean     1399.132245\n",
       "std       188.427234\n",
       "min       937.200000\n",
       "25%      1271.000000\n",
       "50%      1413.000000\n",
       "75%      1563.000000\n",
       "max      1749.000000\n",
       "Name: total, dtype: float64"
      ]
     },
     "execution_count": 99,
     "metadata": {},
     "output_type": "execute_result"
    }
   ],
   "source": [
    "df_stud[\"total\"].describe()"
   ]
  },
  {
   "cell_type": "code",
   "execution_count": 100,
   "metadata": {},
   "outputs": [
    {
     "data": {
      "text/plain": [
       "count    245.000000\n",
       "mean       0.799504\n",
       "std        0.107673\n",
       "min        0.535543\n",
       "25%        0.726286\n",
       "50%        0.807429\n",
       "75%        0.893143\n",
       "max        0.999429\n",
       "Name: Average, dtype: float64"
      ]
     },
     "execution_count": 100,
     "metadata": {},
     "output_type": "execute_result"
    }
   ],
   "source": [
    "df_stud['Average'].describe()"
   ]
  },
  {
   "cell_type": "code",
   "execution_count": 143,
   "metadata": {},
   "outputs": [],
   "source": [
    "df_stud['avge_group'] = pd.cut(df_stud.Average, bins=[0, 0.65, 0.80 , 0.90, 1], labels=['Acceptaple', 'Good','V_Good','Excellent'])"
   ]
  },
  {
   "cell_type": "code",
   "execution_count": 144,
   "metadata": {},
   "outputs": [
    {
     "data": {
      "text/plain": [
       "Good          91\n",
       "V_Good        79\n",
       "Excellent     49\n",
       "Acceptaple    26\n",
       "Name: avge_group, dtype: int64"
      ]
     },
     "execution_count": 144,
     "metadata": {},
     "output_type": "execute_result"
    }
   ],
   "source": [
    "df_stud['avge_group'].value_counts()"
   ]
  },
  {
   "cell_type": "code",
   "execution_count": 145,
   "metadata": {},
   "outputs": [
    {
     "name": "stdout",
     "output_type": "stream",
     "text": [
      "0.2\n",
      "0.3224489795918367\n",
      "0.37142857142857144\n",
      "0.10612244897959183\n"
     ]
    }
   ],
   "source": [
    "Excellent = df_stud.query('avge_group == \"Excellent\"')['student_id'].count()\n",
    "V_Good = df_stud.query('avge_group == \"V_Good\"')['student_id'].count()\n",
    "Good = df_stud.query('avge_group == \"Good\"')['student_id'].count()\n",
    "Acceptaple = df_stud.query('avge_group == \"Acceptaple\"')['student_id'].count()\n",
    "\n",
    "Excellent_Prob = Excellent / df_stud['student_id'].count()\n",
    "V_Good_Prob = V_Good / df_stud['student_id'].count()\n",
    "Good_Prob = Good / df_stud['student_id'].count()\n",
    "Acceptaple_Prob = Acceptaple  / df_stud['student_id'].count()\n",
    "\n",
    "print(Excellent_Prob)\n",
    "print(V_Good_Prob)\n",
    "print(Good_Prob)\n",
    "print(Acceptaple_Prob)"
   ]
  },
  {
   "cell_type": "code",
   "execution_count": 146,
   "metadata": {},
   "outputs": [
    {
     "data": {
      "text/plain": [
       "Text(0.5, 0.98, 'Students Average Grades')"
      ]
     },
     "execution_count": 146,
     "metadata": {},
     "output_type": "execute_result"
    },
    {
     "data": {
      "image/png": "[encoded data removed]",
      "text/plain": [
       "<Figure size 720x360 with 1 Axes>"
      ]
     },
     "metadata": {},
     "output_type": "display_data"
    }
   ],
   "source": [
    "plt.figure(figsize=(10,5))\n",
    "Avg_group_prop = [Excellent_Prob, V_Good_Prob, Good_Prob, Acceptaple_Prob]\n",
    "plt.pie(Avg_group_prop, explode=None , labels=['Excellent', 'V_Good', 'Good', 'Acceptaple'],autopct='%1.1f%%', startangle=90)\n",
    "plt.axis('equal')\n",
    "plt.suptitle('Students Average Grades', fontsize=15, fontweight='semibold')"
   ]
  },
  {
   "cell_type": "markdown",
   "metadata": {},
   "source": [
    "# plt.figure(figsize=(11,4))\n",
    "sns.boxplot(x='Average', data=Stud_results)\n",
    "plt.title(\"The Agerager Distribution of Students\")\n",
    "plt.xlabel(\"Average\");"
   ]
  },
  {
   "cell_type": "code",
   "execution_count": 147,
   "metadata": {},
   "outputs": [
    {
     "data": {
      "image/png": "[encoded data removed]",
      "text/plain": [
       "<Figure size 1440x360 with 1 Axes>"
      ]
     },
     "metadata": {
      "needs_background": "light"
     },
     "output_type": "display_data"
    }
   ],
   "source": [
    "plt.figure(figsize = [20, 5])\n",
    "g = sns.countplot(data=df_stud, x=\"Parents_satus\", hue=\"Parents_satus\", order=df_stud.Parents_satus.value_counts().index)\n",
    "g.set_title('Bike Trips for User Type by Age gruop',fontsize=15)\n",
    "g.set_xlabel('Parents Status')\n",
    "g.set_ylabel('Number Of Students');"
   ]
  },
  {
   "cell_type": "code",
   "execution_count": 148,
   "metadata": {},
   "outputs": [
    {
     "data": {
      "image/png": "[encoded data removed]",
      "text/plain": [
       "<Figure size 432x288 with 1 Axes>"
      ]
     },
     "metadata": {
      "needs_background": "light"
     },
     "output_type": "display_data"
    }
   ],
   "source": [
    "sns.countplot(data=df_stud,x='Parents_satus')\n",
    "plt.xticks(rotation=360);"
   ]
  },
  {
   "cell_type": "code",
   "execution_count": 149,
   "metadata": {},
   "outputs": [],
   "source": [
    "top_20= df_stud['Leving_with'].value_counts().index[0:20]"
   ]
  },
  {
   "cell_type": "code",
   "execution_count": 150,
   "metadata": {},
   "outputs": [
    {
     "data": {
      "image/png": "[encoded data removed]",
      "text/plain": [
       "<Figure size 720x360 with 1 Axes>"
      ]
     },
     "metadata": {
      "needs_background": "light"
     },
     "output_type": "display_data"
    }
   ],
   "source": [
    "plt.figure(figsize = [10, 5])\n",
    "base_color = sns.color_palette()[0]\n",
    "sns.countplot(data = df_stud, y = 'Leving_with', color = base_color, order= top_20)\n",
    "plt.suptitle(\"The Hieghset Stations Demanded\", fontsize=15, fontweight='semibold');"
   ]
  },
  {
   "cell_type": "code",
   "execution_count": 151,
   "metadata": {},
   "outputs": [
    {
     "data": {
      "text/plain": [
       "<seaborn.axisgrid.FacetGrid at 0x1cd90d68d00>"
      ]
     },
     "execution_count": 151,
     "metadata": {},
     "output_type": "execute_result"
    },
    {
     "data": {
      "image/png": "[encoded data removed]",
      "text/plain": [
       "<Figure size 360x360 with 1 Axes>"
      ]
     },
     "metadata": {
      "needs_background": "light"
     },
     "output_type": "display_data"
    }
   ],
   "source": [
    "sns.catplot(x=\"Leving_with\", y=\"Average\", kind=\"bar\", data=df_stud)"
   ]
  },
  {
   "cell_type": "code",
   "execution_count": 110,
   "metadata": {},
   "outputs": [
    {
     "data": {
      "image/png": "[encoded data removed]",
      "text/plain": [
       "<Figure size 360x360 with 1 Axes>"
      ]
     },
     "metadata": {
      "needs_background": "light"
     },
     "output_type": "display_data"
    }
   ],
   "source": [
    "sns.catplot(x=\"Parents_satus\", kind=\"count\", palette=\"ch:.25\", data=df_stud);"
   ]
  },
  {
   "cell_type": "code",
   "execution_count": 111,
   "metadata": {},
   "outputs": [
    {
     "data": {
      "text/plain": [
       "<matplotlib.axes._subplots.AxesSubplot at 0x1cd8f555940>"
      ]
     },
     "execution_count": 111,
     "metadata": {},
     "output_type": "execute_result"
    },
    {
     "data": {
      "image/png": "[encoded data removed]",
      "text/plain": [
       "<Figure size 432x288 with 1 Axes>"
      ]
     },
     "metadata": {
      "needs_background": "light"
     },
     "output_type": "display_data"
    }
   ],
   "source": [
    "sns.scatterplot(data=df_stud, x= df_stud['math_final'] , y=df_stud['Average'] )"
   ]
  },
  {
   "cell_type": "code",
   "execution_count": 112,
   "metadata": {},
   "outputs": [
    {
     "data": {
      "text/plain": [
       "<matplotlib.axes._subplots.AxesSubplot at 0x1cd8f5231c0>"
      ]
     },
     "execution_count": 112,
     "metadata": {},
     "output_type": "execute_result"
    },
    {
     "data": {
      "image/png": "[encoded data removed]",
      "text/plain": [
       "<Figure size 432x288 with 1 Axes>"
      ]
     },
     "metadata": {
      "needs_background": "light"
     },
     "output_type": "display_data"
    }
   ],
   "source": [
    "sns.scatterplot(data=df_stud, x= df_stud['science'] , y=df_stud['Average'] )"
   ]
  },
  {
   "cell_type": "markdown",
   "metadata": {},
   "source": [
    "### Copying Dataframe"
   ]
  },
  {
   "cell_type": "code",
   "execution_count": 180,
   "metadata": {},
   "outputs": [],
   "source": [
    "df_stud_new = df_stud.copy()"
   ]
  },
  {
   "cell_type": "code",
   "execution_count": 181,
   "metadata": {},
   "outputs": [
    {
     "data": {
      "text/html": [
       "<div>\n",
       "<style scoped>\n",
       "    .dataframe tbody tr th:only-of-type {\n",
       "        vertical-align: middle;\n",
       "    }\n",
       "\n",
       "    .dataframe tbody tr th {\n",
       "        vertical-align: top;\n",
       "    }\n",
       "\n",
       "    .dataframe thead th {\n",
       "        text-align: right;\n",
       "    }\n",
       "</style>\n",
       "<table border=\"1\" class=\"dataframe\">\n",
       "  <thead>\n",
       "    <tr style=\"text-align: right;\">\n",
       "      <th></th>\n",
       "      <th>number_s_class</th>\n",
       "      <th>number_s_grade</th>\n",
       "      <th>class_rank</th>\n",
       "      <th>grade_rank</th>\n",
       "      <th>total</th>\n",
       "      <th>class_id</th>\n",
       "      <th>grade_id</th>\n",
       "      <th>student_name_x</th>\n",
       "      <th>student_id</th>\n",
       "      <th>timestamp</th>\n",
       "      <th>...</th>\n",
       "      <th>Father_job</th>\n",
       "      <th>Mother_job</th>\n",
       "      <th>Father_edcation</th>\n",
       "      <th>Mother_educstion</th>\n",
       "      <th>Health_case</th>\n",
       "      <th>Parent_phone</th>\n",
       "      <th>math_final</th>\n",
       "      <th>science</th>\n",
       "      <th>Average</th>\n",
       "      <th>avge_group</th>\n",
       "    </tr>\n",
       "  </thead>\n",
       "  <tbody>\n",
       "    <tr>\n",
       "      <th>0</th>\n",
       "      <td>38</td>\n",
       "      <td>206</td>\n",
       "      <td>27</td>\n",
       "      <td>128</td>\n",
       "      <td>1309.5</td>\n",
       "      <td>1</td>\n",
       "      <td>725</td>\n",
       "      <td>بشار بدر سليم بامحفوظ</td>\n",
       "      <td>1141676120</td>\n",
       "      <td>1/30/2020 11:32:11</td>\n",
       "      <td>...</td>\n",
       "      <td>Retired</td>\n",
       "      <td>House_wife</td>\n",
       "      <td>High_School</td>\n",
       "      <td>High_School</td>\n",
       "      <td>No</td>\n",
       "      <td>0534000839</td>\n",
       "      <td>14.0</td>\n",
       "      <td>16.5</td>\n",
       "      <td>0.748286</td>\n",
       "      <td>Good</td>\n",
       "    </tr>\n",
       "    <tr>\n",
       "      <th>1</th>\n",
       "      <td>38</td>\n",
       "      <td>206</td>\n",
       "      <td>18</td>\n",
       "      <td>63</td>\n",
       "      <td>1511.5</td>\n",
       "      <td>1</td>\n",
       "      <td>725</td>\n",
       "      <td>حمد بدر عاتق الحربي</td>\n",
       "      <td>1139329468</td>\n",
       "      <td>1/30/2020 11:09:56</td>\n",
       "      <td>...</td>\n",
       "      <td>Government</td>\n",
       "      <td>House_wife</td>\n",
       "      <td>Bachelor</td>\n",
       "      <td>Bachelor</td>\n",
       "      <td>No</td>\n",
       "      <td>0555259704</td>\n",
       "      <td>25.0</td>\n",
       "      <td>19.5</td>\n",
       "      <td>0.863714</td>\n",
       "      <td>V_Good</td>\n",
       "    </tr>\n",
       "    <tr>\n",
       "      <th>2</th>\n",
       "      <td>38</td>\n",
       "      <td>206</td>\n",
       "      <td>36</td>\n",
       "      <td>167</td>\n",
       "      <td>1160.0</td>\n",
       "      <td>1</td>\n",
       "      <td>725</td>\n",
       "      <td>خالد انور كمال سباء</td>\n",
       "      <td>1139754053</td>\n",
       "      <td>1/30/2020 11:11:41</td>\n",
       "      <td>...</td>\n",
       "      <td>Government</td>\n",
       "      <td>House_wife</td>\n",
       "      <td>High_School</td>\n",
       "      <td>High_School</td>\n",
       "      <td>No</td>\n",
       "      <td>0551880662</td>\n",
       "      <td>15.0</td>\n",
       "      <td>12.0</td>\n",
       "      <td>0.662857</td>\n",
       "      <td>Good</td>\n",
       "    </tr>\n",
       "    <tr>\n",
       "      <th>3</th>\n",
       "      <td>38</td>\n",
       "      <td>206</td>\n",
       "      <td>30</td>\n",
       "      <td>144</td>\n",
       "      <td>1271.0</td>\n",
       "      <td>1</td>\n",
       "      <td>725</td>\n",
       "      <td>رائد ناصر صلاح المطيري</td>\n",
       "      <td>1140387018</td>\n",
       "      <td>1/30/2020 13:39:56</td>\n",
       "      <td>...</td>\n",
       "      <td>Government</td>\n",
       "      <td>Government</td>\n",
       "      <td>Master</td>\n",
       "      <td>Bachelor</td>\n",
       "      <td>No</td>\n",
       "      <td>567902997</td>\n",
       "      <td>8.0</td>\n",
       "      <td>18.5</td>\n",
       "      <td>0.726286</td>\n",
       "      <td>Good</td>\n",
       "    </tr>\n",
       "    <tr>\n",
       "      <th>4</th>\n",
       "      <td>38</td>\n",
       "      <td>206</td>\n",
       "      <td>30</td>\n",
       "      <td>144</td>\n",
       "      <td>1271.0</td>\n",
       "      <td>1</td>\n",
       "      <td>725</td>\n",
       "      <td>رائد ناصر صلاح المطيري</td>\n",
       "      <td>1140387018</td>\n",
       "      <td>1/30/2020 13:45:29</td>\n",
       "      <td>...</td>\n",
       "      <td>Government</td>\n",
       "      <td>Government</td>\n",
       "      <td>Bachelor</td>\n",
       "      <td>High_School</td>\n",
       "      <td>No</td>\n",
       "      <td>567902997</td>\n",
       "      <td>8.0</td>\n",
       "      <td>18.5</td>\n",
       "      <td>0.726286</td>\n",
       "      <td>Good</td>\n",
       "    </tr>\n",
       "  </tbody>\n",
       "</table>\n",
       "<p>5 rows × 27 columns</p>\n",
       "</div>"
      ],
      "text/plain": [
       "   number_s_class  number_s_grade  class_rank  grade_rank   total  class_id  \\\n",
       "0              38             206          27         128  1309.5         1   \n",
       "1              38             206          18          63  1511.5         1   \n",
       "2              38             206          36         167  1160.0         1   \n",
       "3              38             206          30         144  1271.0         1   \n",
       "4              38             206          30         144  1271.0         1   \n",
       "\n",
       "   grade_id          student_name_x  student_id           timestamp  ...  \\\n",
       "0       725   بشار بدر سليم بامحفوظ  1141676120  1/30/2020 11:32:11  ...   \n",
       "1       725     حمد بدر عاتق الحربي  1139329468  1/30/2020 11:09:56  ...   \n",
       "2       725     خالد انور كمال سباء  1139754053  1/30/2020 11:11:41  ...   \n",
       "3       725  رائد ناصر صلاح المطيري  1140387018  1/30/2020 13:39:56  ...   \n",
       "4       725  رائد ناصر صلاح المطيري  1140387018  1/30/2020 13:45:29  ...   \n",
       "\n",
       "   Father_job  Mother_job Father_edcation Mother_educstion Health_case  \\\n",
       "0     Retired  House_wife     High_School      High_School          No   \n",
       "1  Government  House_wife        Bachelor         Bachelor          No   \n",
       "2  Government  House_wife     High_School      High_School          No   \n",
       "3  Government  Government          Master         Bachelor          No   \n",
       "4  Government  Government        Bachelor      High_School          No   \n",
       "\n",
       "  Parent_phone math_final science   Average avge_group  \n",
       "0   0534000839       14.0    16.5  0.748286       Good  \n",
       "1   0555259704       25.0    19.5  0.863714     V_Good  \n",
       "2   0551880662       15.0    12.0  0.662857       Good  \n",
       "3    567902997        8.0    18.5  0.726286       Good  \n",
       "4    567902997        8.0    18.5  0.726286       Good  \n",
       "\n",
       "[5 rows x 27 columns]"
      ]
     },
     "execution_count": 181,
     "metadata": {},
     "output_type": "execute_result"
    }
   ],
   "source": [
    "df_stud_new.head()"
   ]
  },
  {
   "cell_type": "code",
   "execution_count": 182,
   "metadata": {},
   "outputs": [
    {
     "name": "stdout",
     "output_type": "stream",
     "text": [
      "Index(['number_s_class', 'number_s_grade', 'class_rank', 'grade_rank', 'total',\n",
      "       'class_id', 'grade_id', 'student_name_x', 'student_id', 'timestamp',\n",
      "       'student_name_y', 'Birthdate', 'Parents_satus', 'Leving_with',\n",
      "       'Father_alive', 'Mother_alive', 'Economics_staus', 'Father_job',\n",
      "       'Mother_job', 'Father_edcation', 'Mother_educstion', 'Health_case',\n",
      "       'Parent_phone', 'math_final', 'science', 'Average', 'avge_group'],\n",
      "      dtype='object')\n"
     ]
    }
   ],
   "source": [
    "print(df_stud_new.columns)"
   ]
  },
  {
   "cell_type": "markdown",
   "metadata": {},
   "source": [
    "### Convert the Average as Percentage"
   ]
  },
  {
   "cell_type": "code",
   "execution_count": 183,
   "metadata": {},
   "outputs": [],
   "source": [
    "df_stud_new['Average'] = df_stud_new['Average']*100"
   ]
  },
  {
   "cell_type": "markdown",
   "metadata": {},
   "source": [
    "### Drop Unnecessary Columns"
   ]
  },
  {
   "cell_type": "code",
   "execution_count": 184,
   "metadata": {},
   "outputs": [
    {
     "data": {
      "text/html": [
       "<div>\n",
       "<style scoped>\n",
       "    .dataframe tbody tr th:only-of-type {\n",
       "        vertical-align: middle;\n",
       "    }\n",
       "\n",
       "    .dataframe tbody tr th {\n",
       "        vertical-align: top;\n",
       "    }\n",
       "\n",
       "    .dataframe thead th {\n",
       "        text-align: right;\n",
       "    }\n",
       "</style>\n",
       "<table border=\"1\" class=\"dataframe\">\n",
       "  <thead>\n",
       "    <tr style=\"text-align: right;\">\n",
       "      <th></th>\n",
       "      <th>Parents_satus</th>\n",
       "      <th>Leving_with</th>\n",
       "      <th>Father_alive</th>\n",
       "      <th>Mother_alive</th>\n",
       "      <th>Economics_staus</th>\n",
       "      <th>Father_job</th>\n",
       "      <th>Mother_job</th>\n",
       "      <th>Father_edcation</th>\n",
       "      <th>Mother_educstion</th>\n",
       "      <th>math_final</th>\n",
       "      <th>science</th>\n",
       "      <th>Average</th>\n",
       "    </tr>\n",
       "  </thead>\n",
       "  <tbody>\n",
       "    <tr>\n",
       "      <th>0</th>\n",
       "      <td>Together</td>\n",
       "      <td>With_Parents</td>\n",
       "      <td>Yes</td>\n",
       "      <td>Yes</td>\n",
       "      <td>Medium</td>\n",
       "      <td>Retired</td>\n",
       "      <td>House_wife</td>\n",
       "      <td>High_School</td>\n",
       "      <td>High_School</td>\n",
       "      <td>14.0</td>\n",
       "      <td>16.5</td>\n",
       "      <td>74.828571</td>\n",
       "    </tr>\n",
       "    <tr>\n",
       "      <th>1</th>\n",
       "      <td>Together</td>\n",
       "      <td>With_Parents</td>\n",
       "      <td>Yes</td>\n",
       "      <td>Yes</td>\n",
       "      <td>Medium</td>\n",
       "      <td>Government</td>\n",
       "      <td>House_wife</td>\n",
       "      <td>Bachelor</td>\n",
       "      <td>Bachelor</td>\n",
       "      <td>25.0</td>\n",
       "      <td>19.5</td>\n",
       "      <td>86.371429</td>\n",
       "    </tr>\n",
       "    <tr>\n",
       "      <th>2</th>\n",
       "      <td>Together</td>\n",
       "      <td>With_Parents</td>\n",
       "      <td>Yes</td>\n",
       "      <td>Yes</td>\n",
       "      <td>Medium</td>\n",
       "      <td>Government</td>\n",
       "      <td>House_wife</td>\n",
       "      <td>High_School</td>\n",
       "      <td>High_School</td>\n",
       "      <td>15.0</td>\n",
       "      <td>12.0</td>\n",
       "      <td>66.285714</td>\n",
       "    </tr>\n",
       "    <tr>\n",
       "      <th>3</th>\n",
       "      <td>Together</td>\n",
       "      <td>With_Parents</td>\n",
       "      <td>Yes</td>\n",
       "      <td>Yes</td>\n",
       "      <td>High</td>\n",
       "      <td>Government</td>\n",
       "      <td>Government</td>\n",
       "      <td>Master</td>\n",
       "      <td>Bachelor</td>\n",
       "      <td>8.0</td>\n",
       "      <td>18.5</td>\n",
       "      <td>72.628571</td>\n",
       "    </tr>\n",
       "    <tr>\n",
       "      <th>4</th>\n",
       "      <td>Together</td>\n",
       "      <td>With_Parents</td>\n",
       "      <td>Yes</td>\n",
       "      <td>Yes</td>\n",
       "      <td>Medium</td>\n",
       "      <td>Government</td>\n",
       "      <td>Government</td>\n",
       "      <td>Bachelor</td>\n",
       "      <td>High_School</td>\n",
       "      <td>8.0</td>\n",
       "      <td>18.5</td>\n",
       "      <td>72.628571</td>\n",
       "    </tr>\n",
       "  </tbody>\n",
       "</table>\n",
       "</div>"
      ],
      "text/plain": [
       "  Parents_satus   Leving_with Father_alive Mother_alive Economics_staus  \\\n",
       "0      Together  With_Parents          Yes          Yes          Medium   \n",
       "1      Together  With_Parents          Yes          Yes          Medium   \n",
       "2      Together  With_Parents          Yes          Yes          Medium   \n",
       "3      Together  With_Parents          Yes          Yes            High   \n",
       "4      Together  With_Parents          Yes          Yes          Medium   \n",
       "\n",
       "   Father_job  Mother_job Father_edcation Mother_educstion  math_final  \\\n",
       "0     Retired  House_wife     High_School      High_School        14.0   \n",
       "1  Government  House_wife        Bachelor         Bachelor        25.0   \n",
       "2  Government  House_wife     High_School      High_School        15.0   \n",
       "3  Government  Government          Master         Bachelor         8.0   \n",
       "4  Government  Government        Bachelor      High_School         8.0   \n",
       "\n",
       "   science    Average  \n",
       "0     16.5  74.828571  \n",
       "1     19.5  86.371429  \n",
       "2     12.0  66.285714  \n",
       "3     18.5  72.628571  \n",
       "4     18.5  72.628571  "
      ]
     },
     "execution_count": 184,
     "metadata": {},
     "output_type": "execute_result"
    }
   ],
   "source": [
    "df_stud_new.drop(columns=['number_s_class', 'number_s_grade', 'class_rank','grade_rank','total',\n",
    "                          'class_id','grade_id','student_name_x','student_id','timestamp','student_name_y',\n",
    "                          'Birthdate','Parent_phone','Health_case','avge_group'],axis=0, inplace=True)\n",
    "\n",
    "df_stud_new.head()"
   ]
  },
  {
   "cell_type": "markdown",
   "metadata": {},
   "source": [
    "### Data Preproccesing"
   ]
  },
  {
   "cell_type": "code",
   "execution_count": 189,
   "metadata": {},
   "outputs": [],
   "source": [
    "# Detrmine Depndent and independent variables \n",
    "X = df_stud_new.iloc[:, :-1]\n",
    "y = df_stud_new.iloc[:, -1]"
   ]
  },
  {
   "cell_type": "markdown",
   "metadata": {},
   "source": [
    "### Encoding Catigorical Data"
   ]
  },
  {
   "cell_type": "code",
   "execution_count": 190,
   "metadata": {},
   "outputs": [],
   "source": [
    "categorical = ['Parents_satus',\\\n",
    "               'Leving_with',\\\n",
    "               'Father_alive',\\\n",
    "               'Mother_alive',\\\n",
    "               'Economics_staus',\\\n",
    "               'Father_job',\\\n",
    "               'Mother_job',\\\n",
    "               'Father_edcation',\\\n",
    "               'Mother_educstion',\\\n",
    "                ]"
   ]
  },
  {
   "cell_type": "code",
   "execution_count": 191,
   "metadata": {},
   "outputs": [],
   "source": [
    "from sklearn.compose import ColumnTransformer\n",
    "from sklearn.preprocessing import LabelEncoder"
   ]
  },
  {
   "cell_type": "code",
   "execution_count": 192,
   "metadata": {},
   "outputs": [],
   "source": [
    "le = LabelEncoder()\n",
    "df_stud_new[categorical] = df_stud_new[categorical].apply(lambda col: le.fit_transform(col))"
   ]
  },
  {
   "cell_type": "code",
   "execution_count": 193,
   "metadata": {},
   "outputs": [
    {
     "data": {
      "text/html": [
       "<div>\n",
       "<style scoped>\n",
       "    .dataframe tbody tr th:only-of-type {\n",
       "        vertical-align: middle;\n",
       "    }\n",
       "\n",
       "    .dataframe tbody tr th {\n",
       "        vertical-align: top;\n",
       "    }\n",
       "\n",
       "    .dataframe thead th {\n",
       "        text-align: right;\n",
       "    }\n",
       "</style>\n",
       "<table border=\"1\" class=\"dataframe\">\n",
       "  <thead>\n",
       "    <tr style=\"text-align: right;\">\n",
       "      <th></th>\n",
       "      <th>Parents_satus</th>\n",
       "      <th>Leving_with</th>\n",
       "      <th>Father_alive</th>\n",
       "      <th>Mother_alive</th>\n",
       "      <th>Economics_staus</th>\n",
       "      <th>Father_job</th>\n",
       "      <th>Mother_job</th>\n",
       "      <th>Father_edcation</th>\n",
       "      <th>Mother_educstion</th>\n",
       "      <th>math_final</th>\n",
       "      <th>science</th>\n",
       "      <th>Average</th>\n",
       "    </tr>\n",
       "  </thead>\n",
       "  <tbody>\n",
       "    <tr>\n",
       "      <th>0</th>\n",
       "      <td>2</td>\n",
       "      <td>2</td>\n",
       "      <td>1</td>\n",
       "      <td>1</td>\n",
       "      <td>1</td>\n",
       "      <td>4</td>\n",
       "      <td>1</td>\n",
       "      <td>1</td>\n",
       "      <td>1</td>\n",
       "      <td>14.0</td>\n",
       "      <td>16.5</td>\n",
       "      <td>74.828571</td>\n",
       "    </tr>\n",
       "    <tr>\n",
       "      <th>1</th>\n",
       "      <td>2</td>\n",
       "      <td>2</td>\n",
       "      <td>1</td>\n",
       "      <td>1</td>\n",
       "      <td>1</td>\n",
       "      <td>1</td>\n",
       "      <td>1</td>\n",
       "      <td>0</td>\n",
       "      <td>0</td>\n",
       "      <td>25.0</td>\n",
       "      <td>19.5</td>\n",
       "      <td>86.371429</td>\n",
       "    </tr>\n",
       "    <tr>\n",
       "      <th>2</th>\n",
       "      <td>2</td>\n",
       "      <td>2</td>\n",
       "      <td>1</td>\n",
       "      <td>1</td>\n",
       "      <td>1</td>\n",
       "      <td>1</td>\n",
       "      <td>1</td>\n",
       "      <td>1</td>\n",
       "      <td>1</td>\n",
       "      <td>15.0</td>\n",
       "      <td>12.0</td>\n",
       "      <td>66.285714</td>\n",
       "    </tr>\n",
       "    <tr>\n",
       "      <th>3</th>\n",
       "      <td>2</td>\n",
       "      <td>2</td>\n",
       "      <td>1</td>\n",
       "      <td>1</td>\n",
       "      <td>0</td>\n",
       "      <td>1</td>\n",
       "      <td>0</td>\n",
       "      <td>2</td>\n",
       "      <td>0</td>\n",
       "      <td>8.0</td>\n",
       "      <td>18.5</td>\n",
       "      <td>72.628571</td>\n",
       "    </tr>\n",
       "    <tr>\n",
       "      <th>4</th>\n",
       "      <td>2</td>\n",
       "      <td>2</td>\n",
       "      <td>1</td>\n",
       "      <td>1</td>\n",
       "      <td>1</td>\n",
       "      <td>1</td>\n",
       "      <td>0</td>\n",
       "      <td>0</td>\n",
       "      <td>1</td>\n",
       "      <td>8.0</td>\n",
       "      <td>18.5</td>\n",
       "      <td>72.628571</td>\n",
       "    </tr>\n",
       "  </tbody>\n",
       "</table>\n",
       "</div>"
      ],
      "text/plain": [
       "   Parents_satus  Leving_with  Father_alive  Mother_alive  Economics_staus  \\\n",
       "0              2            2             1             1                1   \n",
       "1              2            2             1             1                1   \n",
       "2              2            2             1             1                1   \n",
       "3              2            2             1             1                0   \n",
       "4              2            2             1             1                1   \n",
       "\n",
       "   Father_job  Mother_job  Father_edcation  Mother_educstion  math_final  \\\n",
       "0           4           1                1                 1        14.0   \n",
       "1           1           1                0                 0        25.0   \n",
       "2           1           1                1                 1        15.0   \n",
       "3           1           0                2                 0         8.0   \n",
       "4           1           0                0                 1         8.0   \n",
       "\n",
       "   science    Average  \n",
       "0     16.5  74.828571  \n",
       "1     19.5  86.371429  \n",
       "2     12.0  66.285714  \n",
       "3     18.5  72.628571  \n",
       "4     18.5  72.628571  "
      ]
     },
     "execution_count": 193,
     "metadata": {},
     "output_type": "execute_result"
    }
   ],
   "source": [
    "df_stud_new.head()"
   ]
  },
  {
   "cell_type": "markdown",
   "metadata": {},
   "source": [
    "## Spliting dataset into training set  and test set"
   ]
  },
  {
   "cell_type": "code",
   "execution_count": 194,
   "metadata": {},
   "outputs": [],
   "source": [
    "from sklearn.model_selection import train_test_split"
   ]
  },
  {
   "cell_type": "code",
   "execution_count": 195,
   "metadata": {},
   "outputs": [],
   "source": [
    "X_train,X_test,y_train,y_test = train_test_split(X,y, test_size= 0.2, random_state= 1)"
   ]
  },
  {
   "cell_type": "code",
   "execution_count": 196,
   "metadata": {},
   "outputs": [
    {
     "data": {
      "text/plain": [
       "((196, 11), (49, 11))"
      ]
     },
     "execution_count": 196,
     "metadata": {},
     "output_type": "execute_result"
    }
   ],
   "source": [
    "X_train.shape, X_test.shape #check the shape of X_train and X_test"
   ]
  },
  {
   "cell_type": "code",
   "execution_count": 197,
   "metadata": {},
   "outputs": [
    {
     "data": {
      "text/plain": [
       "RandomForestRegressor(n_estimators=10, random_state=0)"
      ]
     },
     "execution_count": 197,
     "metadata": {},
     "output_type": "execute_result"
    }
   ],
   "source": [
    "from sklearn.ensemble import RandomForestRegressor\n",
    "rf = RandomForestRegressor(n_estimators=10, random_state=0)\n",
    "rf.fit(X_train, y_train)"
   ]
  },
  {
   "cell_type": "code",
   "execution_count": 198,
   "metadata": {},
   "outputs": [],
   "source": [
    "y_pred = rf.predict(X_test)"
   ]
  },
  {
   "cell_type": "code",
   "execution_count": 199,
   "metadata": {},
   "outputs": [
    {
     "name": "stdout",
     "output_type": "stream",
     "text": [
      "83.26188181138396\n"
     ]
    }
   ],
   "source": [
    "print(r2_score(y_test, y_pred) * 100)"
   ]
  },
  {
   "cell_type": "code",
   "execution_count": 200,
   "metadata": {},
   "outputs": [
    {
     "data": {
      "text/plain": [
       "LinearRegression()"
      ]
     },
     "execution_count": 200,
     "metadata": {},
     "output_type": "execute_result"
    }
   ],
   "source": [
    "from sklearn.linear_model import LinearRegression\n",
    "Ln = LinearRegression()\n",
    "Ln.fit(X_train, y_train)"
   ]
  },
  {
   "cell_type": "code",
   "execution_count": 201,
   "metadata": {},
   "outputs": [],
   "source": [
    "Ln_y_pred = Ln.predict(X_test)"
   ]
  },
  {
   "cell_type": "code",
   "execution_count": 202,
   "metadata": {},
   "outputs": [
    {
     "name": "stdout",
     "output_type": "stream",
     "text": [
      "0.8463936021235261\n"
     ]
    }
   ],
   "source": [
    "print(r2_score(y_test, Ln_y_pred))"
   ]
  },
  {
   "cell_type": "code",
   "execution_count": 219,
   "metadata": {},
   "outputs": [],
   "source": [
    "y_train_pred = Ln.predict(X_train)"
   ]
  },
  {
   "cell_type": "code",
   "execution_count": 218,
   "metadata": {},
   "outputs": [],
   "source": [
    "\n",
    "##np.set_printoptions(precision=2)\n",
    "## print(np.concatenate((Ln_y_pred.reshape(len(Ln_y_pred),1), y_test.reshape(len(y_test),1)),1))"
   ]
  },
  {
   "cell_type": "code",
   "execution_count": 207,
   "metadata": {},
   "outputs": [
    {
     "data": {
      "image/png": "[encoded data removed]",
      "text/plain": [
       "<Figure size 1152x432 with 1 Axes>"
      ]
     },
     "metadata": {},
     "output_type": "display_data"
    }
   ],
   "source": [
    "sns.set(font_scale=1)\n",
    "\n",
    "plt.figure(figsize=(16, 6))\n",
    "sns.set_style(\"darkgrid\")\n",
    "ax = sns.countplot('avge_group',hue='Mother_educstion', data=df_stud, palette=\"Paired\")\n",
    "ax.set_title('Students accounts  according to Mother Education')\n",
    "ax.set_xlabel('Mother education')\n",
    "ax.set_ylabel('Count')\n",
    "plt.show()"
   ]
  },
  {
   "cell_type": "code",
   "execution_count": 344,
   "metadata": {},
   "outputs": [
    {
     "data": {
      "text/plain": [
       "<matplotlib.collections.PathCollection at 0x167e9aa52b0>"
      ]
     },
     "execution_count": 344,
     "metadata": {},
     "output_type": "execute_result"
    },
    {
     "data": {
      "image/png": "[encoded data removed]",
      "text/plain": [
       "<Figure size 432x288 with 1 Axes>"
      ]
     },
     "metadata": {},
     "output_type": "display_data"
    }
   ],
   "source": [
    "plt.scatter(y_test,Ln_y_pred)"
   ]
  },
  {
   "cell_type": "code",
   "execution_count": null,
   "metadata": {},
   "outputs": [],
   "source": []
  },
  {
   "cell_type": "code",
   "execution_count": 327,
   "metadata": {},
   "outputs": [
    {
     "data": {
      "text/plain": [
       "(196,)"
      ]
     },
     "execution_count": 327,
     "metadata": {},
     "output_type": "execute_result"
    }
   ],
   "source": [
    "y_train_pred.shape"
   ]
  },
  {
   "cell_type": "code",
   "execution_count": 328,
   "metadata": {},
   "outputs": [
    {
     "data": {
      "text/plain": [
       "(196, 11)"
      ]
     },
     "execution_count": 328,
     "metadata": {},
     "output_type": "execute_result"
    }
   ],
   "source": [
    "X_train.shape"
   ]
  },
  {
   "cell_type": "code",
   "execution_count": 329,
   "metadata": {},
   "outputs": [],
   "source": [
    "X_reshape = X_train.reshape(-1,1)"
   ]
  },
  {
   "cell_type": "code",
   "execution_count": null,
   "metadata": {},
   "outputs": [],
   "source": []
  },
  {
   "cell_type": "code",
   "execution_count": 260,
   "metadata": {},
   "outputs": [
    {
     "data": {
      "text/plain": [
       "<matplotlib.axes._subplots.AxesSubplot at 0x167ea52c670>"
      ]
     },
     "execution_count": 260,
     "metadata": {},
     "output_type": "execute_result"
    },
    {
     "data": {
      "image/png": "[encoded data removed]",
      "text/plain": [
       "<Figure size 720x360 with 1 Axes>"
      ]
     },
     "metadata": {},
     "output_type": "display_data"
    }
   ],
   "source": [
    "plt.figure(figsize=(10, 5))\n",
    "sns.boxplot(x=df_stud_new['Average'],  palette=\"Paired\")"
   ]
  },
  {
   "cell_type": "code",
   "execution_count": 101,
   "metadata": {},
   "outputs": [
    {
     "data": {
      "text/plain": [
       "53.55428571428572"
      ]
     },
     "execution_count": 101,
     "metadata": {},
     "output_type": "execute_result"
    }
   ],
   "source": [
    "df_stud_new['Average'].min()"
   ]
  },
  {
   "cell_type": "code",
   "execution_count": 52,
   "metadata": {},
   "outputs": [
    {
     "ename": "NameError",
     "evalue": "name 'df_stud_new' is not defined",
     "output_type": "error",
     "traceback": [
      "\u001b[1;31m---------------------------------------------------------------------------\u001b[0m",
      "\u001b[1;31mNameError\u001b[0m                                 Traceback (most recent call last)",
      "\u001b[1;32m<ipython-input-52-4cc2c51f0824>\u001b[0m in \u001b[0;36m<module>\u001b[1;34m\u001b[0m\n\u001b[1;32m----> 1\u001b[1;33m \u001b[0mdf_stud_new\u001b[0m\u001b[1;33m[\u001b[0m\u001b[1;34m'Average'\u001b[0m\u001b[1;33m]\u001b[0m\u001b[1;33m.\u001b[0m\u001b[0mdescribe\u001b[0m\u001b[1;33m\u001b[0m\u001b[1;33m\u001b[0m\u001b[0m\n\u001b[0m",
      "\u001b[1;31mNameError\u001b[0m: name 'df_stud_new' is not defined"
     ]
    }
   ],
   "source": [
    "df_stud_new['Average'].describe"
   ]
  },
  {
   "cell_type": "code",
   "execution_count": 102,
   "metadata": {},
   "outputs": [
    {
     "data": {
      "text/plain": [
       "99.94285714285715"
      ]
     },
     "execution_count": 102,
     "metadata": {},
     "output_type": "execute_result"
    }
   ],
   "source": [
    "df_stud_new['Average'].max()"
   ]
  },
  {
   "cell_type": "code",
   "execution_count": 103,
   "metadata": {},
   "outputs": [
    {
     "data": {
      "text/plain": [
       "79.95041399416917"
      ]
     },
     "execution_count": 103,
     "metadata": {},
     "output_type": "execute_result"
    }
   ],
   "source": [
    "df_stud_new['Average'].mean()"
   ]
  },
  {
   "cell_type": "code",
   "execution_count": 104,
   "metadata": {},
   "outputs": [],
   "source": [
    "import plotly.express as px"
   ]
  },
  {
   "cell_type": "code",
   "execution_count": 197,
   "metadata": {},
   "outputs": [
    {
     "name": "stdout",
     "output_type": "stream",
     "text": [
      "Parents_satus    avge_group\n",
      "Divorced         Good          11\n",
      "                 V_Good         8\n",
      "                 Excellent      4\n",
      "                 Acceptaple     3\n",
      "One_passed_Away  Good           7\n",
      "                 Acceptaple     4\n",
      "                 Excellent      3\n",
      "                 V_Good         2\n",
      "Together         Good          73\n",
      "                 V_Good        69\n",
      "                 Excellent     42\n",
      "                 Acceptaple    19\n",
      "Name: avge_group, dtype: int64\n"
     ]
    }
   ],
   "source": [
    "print(ZZZ)"
   ]
  },
  {
   "cell_type": "code",
   "execution_count": 154,
   "metadata": {},
   "outputs": [
    {
     "data": {
      "image/png": "[encoded data removed]",
      "text/plain": [
       "<Figure size 1152x432 with 1 Axes>"
      ]
     },
     "metadata": {},
     "output_type": "display_data"
    }
   ],
   "source": [
    "sns.set(font_scale=1)\n",
    "plt.figure(figsize=(16, 6))\n",
    "ax = sns.countplot('avge_group',hue='Parents_satus', data=df_stud, palette=\"Paired\")\n",
    "ax.set_title('Students distribution according to Prantes Staus')\n",
    "ax.set_xlabel('Parents Status')\n",
    "ax.set_ylabel('Count')\n",
    "plt.show()"
   ]
  },
  {
   "cell_type": "code",
   "execution_count": 157,
   "metadata": {},
   "outputs": [
    {
     "data": {
      "image/png": "[encoded data removed]",
      "text/plain": [
       "<Figure size 1152x432 with 1 Axes>"
      ]
     },
     "metadata": {},
     "output_type": "display_data"
    }
   ],
   "source": [
    "sns.set_palette(\"Paired\")\n",
    "sns.set(font_scale=1)\n",
    "plt.figure(figsize=(16, 6))\n",
    "sns.set_style(\"darkgrid\")\n",
    "ax = sns.countplot('avge_group',hue='Leving_with', data=df_stud, palette=\"Paired\")\n",
    "ax.set_title('Students distribution according to Living with')\n",
    "ax.set_xlabel('Live with')\n",
    "ax.set_ylabel('Count')\n",
    "plt.show()"
   ]
  },
  {
   "cell_type": "code",
   "execution_count": 159,
   "metadata": {},
   "outputs": [
    {
     "data": {
      "image/png": "[encoded data removed]",
      "text/plain": [
       "<Figure size 1152x432 with 1 Axes>"
      ]
     },
     "metadata": {},
     "output_type": "display_data"
    }
   ],
   "source": [
    "sns.set(font_scale=1)\n",
    "\n",
    "plt.figure(figsize=(16, 6))\n",
    "sns.set_style(\"darkgrid\")\n",
    "ax = sns.countplot('avge_group',hue='Father_edcation', data=df_stud, palette=\"Paired\")\n",
    "ax.set_title('Students accounts  according to Father Education')\n",
    "ax.set_xlabel('Father education')\n",
    "ax.set_ylabel('Count')\n",
    "plt.show()"
   ]
  },
  {
   "cell_type": "code",
   "execution_count": 209,
   "metadata": {},
   "outputs": [],
   "source": [
    "XX = df_stud_new.iloc[:, :-1]\n",
    "yy = df_stud_new.iloc[:, -1]"
   ]
  },
  {
   "cell_type": "code",
   "execution_count": 210,
   "metadata": {},
   "outputs": [
    {
     "data": {
      "text/plain": [
       "ExtraTreesRegressor()"
      ]
     },
     "execution_count": 210,
     "metadata": {},
     "output_type": "execute_result"
    }
   ],
   "source": [
    "from sklearn.ensemble import ExtraTreesRegressor\n",
    "model = ExtraTreesRegressor()\n",
    "model.fit(XX, yy)"
   ]
  },
  {
   "cell_type": "code",
   "execution_count": 211,
   "metadata": {},
   "outputs": [
    {
     "name": "stdout",
     "output_type": "stream",
     "text": [
      "[6.02e-03 3.02e-03 1.01e-03 8.15e-05 7.00e-03 1.73e-02 1.17e-02 1.61e-02\n",
      " 1.15e-02 4.50e-01 4.76e-01]\n"
     ]
    }
   ],
   "source": [
    "print(model.feature_importances_)\n"
   ]
  },
  {
   "cell_type": "code",
   "execution_count": 217,
   "metadata": {},
   "outputs": [
    {
     "data": {
      "image/png": "[encoded data removed]",
      "text/plain": [
       "<Figure size 864x576 with 1 Axes>"
      ]
     },
     "metadata": {},
     "output_type": "display_data"
    }
   ],
   "source": [
    "plt.figure(figsize=(12, 8))\n",
    "feat_importances = pd.Series(model.feature_importances_, index=XX.columns)\n",
    "feat_importances.nlargest(5).plot(kind='barh')\n",
    "plt.show()"
   ]
  },
  {
   "cell_type": "code",
   "execution_count": 162,
   "metadata": {},
   "outputs": [
    {
     "data": {
      "image/png": "[encoded data removed]",
      "text/plain": [
       "<Figure size 1152x432 with 1 Axes>"
      ]
     },
     "metadata": {},
     "output_type": "display_data"
    }
   ],
   "source": [
    "sns.set(font_scale=1)\n",
    "\n",
    "plt.figure(figsize=(16, 6))\n",
    "sns.set_style(\"darkgrid\")\n",
    "ax = sns.countplot('avge_group',hue='Father_job', data=df_stud, palette=\"Paired\")\n",
    "ax.set_title('Students accounts  according to Father Job')\n",
    "ax.set_xlabel('Father Job')\n",
    "ax.set_ylabel('Count')\n",
    "plt.show()"
   ]
  },
  {
   "cell_type": "code",
   "execution_count": null,
   "metadata": {},
   "outputs": [],
   "source": []
  }
 ],
 "metadata": {
  "kernelspec": {
   "display_name": "Python 3",
   "language": "python",
   "name": "python3"
  },
  "language_info": {
   "codemirror_mode": {
    "name": "ipython",
    "version": 3
   },
   "file_extension": ".py",
   "mimetype": "text/x-python",
   "name": "python",
   "nbconvert_exporter": "python",
   "pygments_lexer": "ipython3",
   "version": "3.8.8"
  }
 },
 "nbformat": 4,
 "nbformat_minor": 2
}
